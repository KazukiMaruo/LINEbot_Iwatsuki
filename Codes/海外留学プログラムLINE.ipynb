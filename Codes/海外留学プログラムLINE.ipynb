{
 "cells": [
  {
   "cell_type": "code",
   "execution_count": 3,
   "id": "ee47c1da-8ffa-4cee-a2f8-073267312254",
   "metadata": {
    "tags": []
   },
   "outputs": [
    {
     "name": "stdout",
     "output_type": "stream",
     "text": [
      "Requirement already satisfied: line-bot-sdk in /Users/muku/opt/anaconda3/lib/python3.9/site-packages (3.9.0)\n",
      "Requirement already satisfied: requests==2.31.0 in /Users/muku/opt/anaconda3/lib/python3.9/site-packages (from line-bot-sdk) (2.31.0)\n",
      "Requirement already satisfied: urllib3<3,>=2.0.5 in /Users/muku/opt/anaconda3/lib/python3.9/site-packages (from line-bot-sdk) (2.2.0)\n",
      "Requirement already satisfied: aiohttp==3.9.3 in /Users/muku/opt/anaconda3/lib/python3.9/site-packages (from line-bot-sdk) (3.9.3)\n",
      "Requirement already satisfied: future in /Users/muku/opt/anaconda3/lib/python3.9/site-packages (from line-bot-sdk) (0.18.3)\n",
      "Requirement already satisfied: pydantic<3,>=2.0.3 in /Users/muku/opt/anaconda3/lib/python3.9/site-packages (from line-bot-sdk) (2.6.1)\n",
      "Requirement already satisfied: aenum>=3.1.11 in /Users/muku/opt/anaconda3/lib/python3.9/site-packages (from line-bot-sdk) (3.1.15)\n",
      "Requirement already satisfied: python-dateutil>=2.5.3 in /Users/muku/opt/anaconda3/lib/python3.9/site-packages (from line-bot-sdk) (2.8.2)\n",
      "Requirement already satisfied: Deprecated in /Users/muku/opt/anaconda3/lib/python3.9/site-packages (from line-bot-sdk) (1.2.14)\n",
      "Requirement already satisfied: aiosignal>=1.1.2 in /Users/muku/opt/anaconda3/lib/python3.9/site-packages (from aiohttp==3.9.3->line-bot-sdk) (1.2.0)\n",
      "Requirement already satisfied: attrs>=17.3.0 in /Users/muku/opt/anaconda3/lib/python3.9/site-packages (from aiohttp==3.9.3->line-bot-sdk) (23.1.0)\n",
      "Requirement already satisfied: frozenlist>=1.1.1 in /Users/muku/opt/anaconda3/lib/python3.9/site-packages (from aiohttp==3.9.3->line-bot-sdk) (1.4.0)\n",
      "Requirement already satisfied: multidict<7.0,>=4.5 in /Users/muku/opt/anaconda3/lib/python3.9/site-packages (from aiohttp==3.9.3->line-bot-sdk) (6.0.4)\n",
      "Requirement already satisfied: yarl<2.0,>=1.0 in /Users/muku/opt/anaconda3/lib/python3.9/site-packages (from aiohttp==3.9.3->line-bot-sdk) (1.9.3)\n",
      "Requirement already satisfied: async-timeout<5.0,>=4.0 in /Users/muku/opt/anaconda3/lib/python3.9/site-packages (from aiohttp==3.9.3->line-bot-sdk) (4.0.3)\n",
      "Requirement already satisfied: charset-normalizer<4,>=2 in /Users/muku/opt/anaconda3/lib/python3.9/site-packages (from requests==2.31.0->line-bot-sdk) (2.0.4)\n",
      "Requirement already satisfied: idna<4,>=2.5 in /Users/muku/opt/anaconda3/lib/python3.9/site-packages (from requests==2.31.0->line-bot-sdk) (3.4)\n",
      "Requirement already satisfied: certifi>=2017.4.17 in /Users/muku/opt/anaconda3/lib/python3.9/site-packages (from requests==2.31.0->line-bot-sdk) (2023.11.17)\n",
      "Requirement already satisfied: annotated-types>=0.4.0 in /Users/muku/opt/anaconda3/lib/python3.9/site-packages (from pydantic<3,>=2.0.3->line-bot-sdk) (0.6.0)\n",
      "Requirement already satisfied: pydantic-core==2.16.2 in /Users/muku/opt/anaconda3/lib/python3.9/site-packages (from pydantic<3,>=2.0.3->line-bot-sdk) (2.16.2)\n",
      "Requirement already satisfied: typing-extensions>=4.6.1 in /Users/muku/opt/anaconda3/lib/python3.9/site-packages (from pydantic<3,>=2.0.3->line-bot-sdk) (4.7.1)\n",
      "Requirement already satisfied: six>=1.5 in /Users/muku/opt/anaconda3/lib/python3.9/site-packages (from python-dateutil>=2.5.3->line-bot-sdk) (1.16.0)\n",
      "Requirement already satisfied: wrapt<2,>=1.10 in /Users/muku/opt/anaconda3/lib/python3.9/site-packages (from Deprecated->line-bot-sdk) (1.14.1)\n",
      "Note: you may need to restart the kernel to use updated packages.\n"
     ]
    }
   ],
   "source": [
    "pip install line-bot-sdk"
   ]
  },
  {
   "cell_type": "code",
   "execution_count": 4,
   "id": "03a00eec-d007-487b-962e-907f7bd372a7",
   "metadata": {},
   "outputs": [],
   "source": [
    "import json"
   ]
  },
  {
   "cell_type": "code",
   "execution_count": 6,
   "id": "5f919a9d-c2eb-4e1d-9614-c1a53a2ddab1",
   "metadata": {},
   "outputs": [],
   "source": [
    "file = open('Info.json','r')\n",
    "info = json.load(file)"
   ]
  },
  {
   "cell_type": "code",
   "execution_count": 9,
   "id": "9e550e34-be7a-4ffb-bcb1-ce89be38bc47",
   "metadata": {
    "collapsed": true,
    "jupyter": {
     "outputs_hidden": true
    },
    "tags": []
   },
   "outputs": [
    {
     "data": {
      "text/plain": [
       "'46lQOAPVY3gCGjV5VWlm3BQnawyx2CahG9fYu6cez9wRppnPTl15OJCmIDlZ+LTHdH8oXA2cvr5khd7wmy1+IeA5gCizkoZrh5Bmqd3ZjaCkY1yOFsiFdqd9e5SX1YiGbeDrelvG8G4YSXvatUPY8QdB04t89/1O/w1cDnyilFU='"
      ]
     },
     "execution_count": 9,
     "metadata": {},
     "output_type": "execute_result"
    }
   ],
   "source": [
    "# info['CHANNEL_ACCESS_TOKEN']"
   ]
  },
  {
   "cell_type": "code",
   "execution_count": 10,
   "id": "d184a072-c920-4a16-b400-6300ce70191a",
   "metadata": {},
   "outputs": [],
   "source": [
    "from linebot import LineBotApi\n",
    "from linebot.models import TextSendMessage"
   ]
  },
  {
   "cell_type": "code",
   "execution_count": 13,
   "id": "b05b026b-f534-4af4-ac84-c046764c325b",
   "metadata": {
    "tags": []
   },
   "outputs": [
    {
     "name": "stderr",
     "output_type": "stream",
     "text": [
      "/var/folders/9c/57jx81fn5zj9y9b187nm12ym0000gn/T/ipykernel_37087/4079338703.py:2: LineBotSdkDeprecatedIn30: Call to deprecated class LineBotApi. (Use v3 class; linebot.v3.<feature>. See https://github.com/line/line-bot-sdk-python/blob/master/README.rst for more details.) -- Deprecated since version 3.0.0.\n",
      "  line_bot_api = LineBotApi(CHANNEL_ACCESS_TOKEN)\n"
     ]
    }
   ],
   "source": [
    "CHANNEL_ACCESS_TOKEN = info['CHANNEL_ACCESS_TOKEN']\n",
    "line_bot_api = LineBotApi(CHANNEL_ACCESS_TOKEN)"
   ]
  },
  {
   "cell_type": "code",
   "execution_count": 25,
   "id": "64d5fd61-12f4-4e03-9547-1101de03bb67",
   "metadata": {
    "collapsed": true,
    "jupyter": {
     "outputs_hidden": true
    },
    "tags": []
   },
   "outputs": [
    {
     "name": "stderr",
     "output_type": "stream",
     "text": [
      "/var/folders/9c/57jx81fn5zj9y9b187nm12ym0000gn/T/ipykernel_37087/3104345551.py:4: LineBotSdkDeprecatedIn30: Call to deprecated method push_message. (Use 'from linebot.v3.messaging import MessagingApi' and 'MessagingApi(...).push_message(...)' instead. See https://github.com/line/line-bot-sdk-python/blob/master/README.rst for more details.) -- Deprecated since version 3.0.0.\n",
      "  line_bot_api.push_message(USER_ID, messages=messages)\n"
     ]
    }
   ],
   "source": [
    "def main():\n",
    "    USER_ID = info['USER_ID']\n",
    "    messages = TextSendMessage(text= 'おはようございます \\n Have a nice day!')\n",
    "    line_bot_api.push_message(USER_ID, messages=messages)\n",
    "\n",
    "if __name__ == '__main__':\n",
    "    main()"
   ]
  },
  {
   "cell_type": "code",
   "execution_count": null,
   "id": "9da1a65c-0216-4ea5-bf13-d48f46a296a5",
   "metadata": {},
   "outputs": [],
   "source": []
  }
 ],
 "metadata": {
  "kernelspec": {
   "display_name": "Python 3 (ipykernel)",
   "language": "python",
   "name": "python3"
  },
  "language_info": {
   "codemirror_mode": {
    "name": "ipython",
    "version": 3
   },
   "file_extension": ".py",
   "mimetype": "text/x-python",
   "name": "python",
   "nbconvert_exporter": "python",
   "pygments_lexer": "ipython3",
   "version": "3.9.18"
  },
  "toc-autonumbering": true,
  "toc-showcode": true,
  "toc-showmarkdowntxt": false
 },
 "nbformat": 4,
 "nbformat_minor": 5
}
